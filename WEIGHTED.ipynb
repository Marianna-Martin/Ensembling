{
 "cells": [
  {
   "cell_type": "markdown",
   "metadata": {},
   "source": [
    "Weighted Average:\n",
    "\n",
    "In some machine learning algorithms, such as ensemble methods or regression models, predictions can be combined using a weighted average.\n",
    "Each prediction is multiplied by a weight before being aggregated. These weights could be based on the confidence or accuracy of the individual predictions.\n",
    "This weighted average allows more reliable predictions to have a greater influence on the final result."
   ]
  },
  {
   "cell_type": "code",
   "execution_count": 5,
   "metadata": {
    "id": "U3aRP_Yf-oi9"
   },
   "outputs": [],
   "source": [
    "# IMPORTS\n",
    "import pandas as pd\n",
    "import numpy as np\n",
    "from sklearn.tree import DecisionTreeClassifier\n",
    "from sklearn.neighbors import KNeighborsClassifier\n",
    "from sklearn.linear_model import LogisticRegression\n",
    "from sklearn.model_selection import train_test_split\n",
    "import statistics as st\n",
    "import warnings\n",
    "warnings.filterwarnings('ignore')"
   ]
  },
  {
   "cell_type": "code",
   "execution_count": 6,
   "metadata": {
    "id": "Wi0Ya4KK_LY8"
   },
   "outputs": [],
   "source": [
    "# SPLITTING THE DATASET\n",
    "df = pd.read_csv('dataset.csv')\n",
    "x = df.drop('target', axis = 1)\n",
    "y = df['target']\n",
    "x_train, x_test, y_train, y_test = train_test_split(x, y, test_size=0.2, random_state=0)"
   ]
  },
  {
   "cell_type": "code",
   "execution_count": 7,
   "metadata": {
    "id": "6lPMAx19_OlE"
   },
   "outputs": [],
   "source": [
    "# MODELS CREATION\n",
    "model1 = DecisionTreeClassifier()\n",
    "model2 = KNeighborsClassifier()\n",
    "model3= LogisticRegression()\n",
    "\n",
    "model1.fit(x_train,y_train)\n",
    "model2.fit(x_train,y_train)\n",
    "model3.fit(x_train,y_train)\n",
    "\n",
    "pred1=model1.predict_proba(x_test)\n",
    "pred2=model2.predict_proba(x_test)\n",
    "pred3=model3.predict_proba(x_test)\n",
    "\n",
    "finalpred=(pred1*0.3+pred2*0.3+pred3*0.4)"
   ]
  },
  {
   "cell_type": "code",
   "execution_count": 4,
   "metadata": {
    "id": "42Svfb3Z_nzm"
   },
   "outputs": [
    {
     "data": {
      "text/plain": [
       "array([[0.92247533, 0.07752467],\n",
       "       [0.60838426, 0.39161574],\n",
       "       [0.48172032, 0.51827968],\n",
       "       [0.93160839, 0.06839161],\n",
       "       [0.7780842 , 0.2219158 ],\n",
       "       [0.34751435, 0.65248565],\n",
       "       [0.86273937, 0.13726063],\n",
       "       [0.89369184, 0.10630816],\n",
       "       [0.93821139, 0.06178861],\n",
       "       [0.93826934, 0.06173066],\n",
       "       [0.50298431, 0.49701569],\n",
       "       [0.08981139, 0.91018861],\n",
       "       [0.98776628, 0.01223372],\n",
       "       [0.11660454, 0.88339546],\n",
       "       [0.08015028, 0.91984972],\n",
       "       [0.18812871, 0.81187129],\n",
       "       [0.91210837, 0.08789163],\n",
       "       [0.09525988, 0.90474012],\n",
       "       [0.93726601, 0.06273399],\n",
       "       [0.12147563, 0.87852437],\n",
       "       [0.12746263, 0.87253737],\n",
       "       [0.7159588 , 0.2840412 ],\n",
       "       [0.91100951, 0.08899049],\n",
       "       [0.77703351, 0.22296649],\n",
       "       [0.5962043 , 0.4037957 ],\n",
       "       [0.46525311, 0.53474689],\n",
       "       [0.62676967, 0.37323033],\n",
       "       [0.75432971, 0.24567029],\n",
       "       [0.07177171, 0.92822829],\n",
       "       [0.31497077, 0.68502923],\n",
       "       [0.33481881, 0.66518119],\n",
       "       [0.87333158, 0.12666842],\n",
       "       [0.0770348 , 0.9229652 ],\n",
       "       [0.32808956, 0.67191044],\n",
       "       [0.09336914, 0.90663086],\n",
       "       [0.18483608, 0.81516392],\n",
       "       [0.98340442, 0.01659558],\n",
       "       [0.18075145, 0.81924855],\n",
       "       [0.84328054, 0.15671946],\n",
       "       [0.71390199, 0.28609801],\n",
       "       [0.32516667, 0.67483333],\n",
       "       [0.44627028, 0.55372972],\n",
       "       [0.29794438, 0.70205562],\n",
       "       [0.91499707, 0.08500293],\n",
       "       [0.45576048, 0.54423952],\n",
       "       [0.51377857, 0.48622143],\n",
       "       [0.09025527, 0.90974473],\n",
       "       [0.14712106, 0.85287894],\n",
       "       [0.74269394, 0.25730606],\n",
       "       [0.13437023, 0.86562977],\n",
       "       [0.10808592, 0.89191408],\n",
       "       [0.34354497, 0.65645503],\n",
       "       [0.07459791, 0.92540209],\n",
       "       [0.60185991, 0.39814009],\n",
       "       [0.06312035, 0.93687965],\n",
       "       [0.84520768, 0.15479232],\n",
       "       [0.20995425, 0.79004575],\n",
       "       [0.0920137 , 0.9079863 ],\n",
       "       [0.25808639, 0.74191361],\n",
       "       [0.08432415, 0.91567585],\n",
       "       [0.3186449 , 0.6813551 ]])"
      ]
     },
     "execution_count": 4,
     "metadata": {},
     "output_type": "execute_result"
    }
   ],
   "source": [
    "finalpred"
   ]
  },
  {
   "cell_type": "code",
   "execution_count": null,
   "metadata": {},
   "outputs": [],
   "source": []
  },
  {
   "cell_type": "code",
   "execution_count": null,
   "metadata": {},
   "outputs": [],
   "source": []
  }
 ],
 "metadata": {
  "colab": {
   "provenance": []
  },
  "kernelspec": {
   "display_name": "Python 3 (Intel® oneAPI 2023.2)",
   "language": "python",
   "name": "c009-intel_distribution_of_python_3_oneapi-beta05-python"
  },
  "language_info": {
   "codemirror_mode": {
    "name": "ipython",
    "version": 3
   },
   "file_extension": ".py",
   "mimetype": "text/x-python",
   "name": "python",
   "nbconvert_exporter": "python",
   "pygments_lexer": "ipython3",
   "version": "3.9.16"
  }
 },
 "nbformat": 4,
 "nbformat_minor": 4
}
